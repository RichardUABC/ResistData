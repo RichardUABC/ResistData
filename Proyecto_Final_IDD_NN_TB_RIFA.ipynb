{
  "nbformat": 4,
  "nbformat_minor": 0,
  "metadata": {
    "accelerator": "TPU",
    "colab": {
      "name": " Proyecto Final IDD_NN_TB_RIFA.ipynb",
      "provenance": [],
      "collapsed_sections": [],
      "machine_shape": "hm"
    },
    "kernelspec": {
      "display_name": "Python 3",
      "name": "python3"
    },
    "language_info": {
      "name": "python"
    },
    "widgets": {
      "application/vnd.jupyter.widget-state+json": {
        "88734cf740954dbf931fb7e2b310df1c": {
          "model_module": "@jupyter-widgets/controls",
          "model_name": "VBoxModel",
          "model_module_version": "1.5.0",
          "state": {
            "_view_name": "VBoxView",
            "_dom_classes": [],
            "_model_name": "VBoxModel",
            "_view_module": "@jupyter-widgets/controls",
            "_model_module_version": "1.5.0",
            "_view_count": null,
            "_view_module_version": "1.5.0",
            "box_style": "",
            "layout": "IPY_MODEL_603bed7692764f3eb90a7e3727cacb17",
            "_model_module": "@jupyter-widgets/controls",
            "children": [
              "IPY_MODEL_7412b41e2d2543a28dbc8a3d82b24d92",
              "IPY_MODEL_a0450c4950a143fd80520211fd53a24f"
            ]
          }
        },
        "603bed7692764f3eb90a7e3727cacb17": {
          "model_module": "@jupyter-widgets/base",
          "model_name": "LayoutModel",
          "model_module_version": "1.2.0",
          "state": {
            "_view_name": "LayoutView",
            "grid_template_rows": null,
            "right": null,
            "justify_content": null,
            "_view_module": "@jupyter-widgets/base",
            "overflow": null,
            "_model_module_version": "1.2.0",
            "_view_count": null,
            "flex_flow": null,
            "width": null,
            "min_width": null,
            "border": null,
            "align_items": null,
            "bottom": null,
            "_model_module": "@jupyter-widgets/base",
            "top": null,
            "grid_column": null,
            "overflow_y": null,
            "overflow_x": null,
            "grid_auto_flow": null,
            "grid_area": null,
            "grid_template_columns": null,
            "flex": null,
            "_model_name": "LayoutModel",
            "justify_items": null,
            "grid_row": null,
            "max_height": null,
            "align_content": null,
            "visibility": null,
            "align_self": null,
            "height": null,
            "min_height": null,
            "padding": null,
            "grid_auto_rows": null,
            "grid_gap": null,
            "max_width": null,
            "order": null,
            "_view_module_version": "1.2.0",
            "grid_template_areas": null,
            "object_position": null,
            "object_fit": null,
            "grid_auto_columns": null,
            "margin": null,
            "display": null,
            "left": null
          }
        },
        "7412b41e2d2543a28dbc8a3d82b24d92": {
          "model_module": "@jupyter-widgets/controls",
          "model_name": "LabelModel",
          "model_module_version": "1.5.0",
          "state": {
            "_view_name": "LabelView",
            "style": "IPY_MODEL_edc2d44edb6d424882dc5e7aab241d74",
            "_dom_classes": [],
            "description": "",
            "_model_name": "LabelModel",
            "placeholder": "​",
            "_view_module": "@jupyter-widgets/controls",
            "_model_module_version": "1.5.0",
            "value": " 0.01MB of 0.01MB uploaded (0.00MB deduped)\r",
            "_view_count": null,
            "_view_module_version": "1.5.0",
            "description_tooltip": null,
            "_model_module": "@jupyter-widgets/controls",
            "layout": "IPY_MODEL_55178904ffd8423ca68c8f8331a39d12"
          }
        },
        "a0450c4950a143fd80520211fd53a24f": {
          "model_module": "@jupyter-widgets/controls",
          "model_name": "FloatProgressModel",
          "model_module_version": "1.5.0",
          "state": {
            "_view_name": "ProgressView",
            "style": "IPY_MODEL_28619ee25a4e4849ac0b80a05d6284f2",
            "_dom_classes": [],
            "description": "",
            "_model_name": "FloatProgressModel",
            "bar_style": "",
            "max": 1,
            "_view_module": "@jupyter-widgets/controls",
            "_model_module_version": "1.5.0",
            "value": 1,
            "_view_count": null,
            "_view_module_version": "1.5.0",
            "orientation": "horizontal",
            "min": 0,
            "description_tooltip": null,
            "_model_module": "@jupyter-widgets/controls",
            "layout": "IPY_MODEL_ed16ab3afc4c4ceb89e07c1bbcd9457a"
          }
        },
        "edc2d44edb6d424882dc5e7aab241d74": {
          "model_module": "@jupyter-widgets/controls",
          "model_name": "DescriptionStyleModel",
          "model_module_version": "1.5.0",
          "state": {
            "_view_name": "StyleView",
            "_model_name": "DescriptionStyleModel",
            "description_width": "",
            "_view_module": "@jupyter-widgets/base",
            "_model_module_version": "1.5.0",
            "_view_count": null,
            "_view_module_version": "1.2.0",
            "_model_module": "@jupyter-widgets/controls"
          }
        },
        "55178904ffd8423ca68c8f8331a39d12": {
          "model_module": "@jupyter-widgets/base",
          "model_name": "LayoutModel",
          "model_module_version": "1.2.0",
          "state": {
            "_view_name": "LayoutView",
            "grid_template_rows": null,
            "right": null,
            "justify_content": null,
            "_view_module": "@jupyter-widgets/base",
            "overflow": null,
            "_model_module_version": "1.2.0",
            "_view_count": null,
            "flex_flow": null,
            "width": null,
            "min_width": null,
            "border": null,
            "align_items": null,
            "bottom": null,
            "_model_module": "@jupyter-widgets/base",
            "top": null,
            "grid_column": null,
            "overflow_y": null,
            "overflow_x": null,
            "grid_auto_flow": null,
            "grid_area": null,
            "grid_template_columns": null,
            "flex": null,
            "_model_name": "LayoutModel",
            "justify_items": null,
            "grid_row": null,
            "max_height": null,
            "align_content": null,
            "visibility": null,
            "align_self": null,
            "height": null,
            "min_height": null,
            "padding": null,
            "grid_auto_rows": null,
            "grid_gap": null,
            "max_width": null,
            "order": null,
            "_view_module_version": "1.2.0",
            "grid_template_areas": null,
            "object_position": null,
            "object_fit": null,
            "grid_auto_columns": null,
            "margin": null,
            "display": null,
            "left": null
          }
        },
        "28619ee25a4e4849ac0b80a05d6284f2": {
          "model_module": "@jupyter-widgets/controls",
          "model_name": "ProgressStyleModel",
          "model_module_version": "1.5.0",
          "state": {
            "_view_name": "StyleView",
            "_model_name": "ProgressStyleModel",
            "description_width": "",
            "_view_module": "@jupyter-widgets/base",
            "_model_module_version": "1.5.0",
            "_view_count": null,
            "_view_module_version": "1.2.0",
            "bar_color": null,
            "_model_module": "@jupyter-widgets/controls"
          }
        },
        "ed16ab3afc4c4ceb89e07c1bbcd9457a": {
          "model_module": "@jupyter-widgets/base",
          "model_name": "LayoutModel",
          "model_module_version": "1.2.0",
          "state": {
            "_view_name": "LayoutView",
            "grid_template_rows": null,
            "right": null,
            "justify_content": null,
            "_view_module": "@jupyter-widgets/base",
            "overflow": null,
            "_model_module_version": "1.2.0",
            "_view_count": null,
            "flex_flow": null,
            "width": null,
            "min_width": null,
            "border": null,
            "align_items": null,
            "bottom": null,
            "_model_module": "@jupyter-widgets/base",
            "top": null,
            "grid_column": null,
            "overflow_y": null,
            "overflow_x": null,
            "grid_auto_flow": null,
            "grid_area": null,
            "grid_template_columns": null,
            "flex": null,
            "_model_name": "LayoutModel",
            "justify_items": null,
            "grid_row": null,
            "max_height": null,
            "align_content": null,
            "visibility": null,
            "align_self": null,
            "height": null,
            "min_height": null,
            "padding": null,
            "grid_auto_rows": null,
            "grid_gap": null,
            "max_width": null,
            "order": null,
            "_view_module_version": "1.2.0",
            "grid_template_areas": null,
            "object_position": null,
            "object_fit": null,
            "grid_auto_columns": null,
            "margin": null,
            "display": null,
            "left": null
          }
        }
      }
    }
  },
  "cells": [
    {
      "cell_type": "markdown",
      "metadata": {
        "id": "-s0vJ9fq70s3"
      },
      "source": [
        "Proyecto final\n"
      ]
    },
    {
      "cell_type": "code",
      "metadata": {
        "colab": {
          "base_uri": "https://localhost:8080/"
        },
        "id": "23TOba33L4qf",
        "outputId": "9e631127-9318-4fed-c707-f52450110741"
      },
      "source": [
        "gpu_info = !nvidia-smi\n",
        "gpu_info = '\\n'.join(gpu_info)\n",
        "if gpu_info.find('failed') >= 0:\n",
        "  print('Select the Runtime > \"Change runtime type\" menu to enable a GPU accelerator, ')\n",
        "  print('and then re-execute this cell.')\n",
        "else:\n",
        "  print(gpu_info)"
      ],
      "execution_count": null,
      "outputs": [
        {
          "output_type": "stream",
          "name": "stdout",
          "text": [
            "Wed Dec  8 21:53:42 2021       \n",
            "+-----------------------------------------------------------------------------+\n",
            "| NVIDIA-SMI 495.44       Driver Version: 460.32.03    CUDA Version: 11.2     |\n",
            "|-------------------------------+----------------------+----------------------+\n",
            "| GPU  Name        Persistence-M| Bus-Id        Disp.A | Volatile Uncorr. ECC |\n",
            "| Fan  Temp  Perf  Pwr:Usage/Cap|         Memory-Usage | GPU-Util  Compute M. |\n",
            "|                               |                      |               MIG M. |\n",
            "|===============================+======================+======================|\n",
            "|   0  Tesla P100-PCIE...  Off  | 00000000:00:04.0 Off |                    0 |\n",
            "| N/A   38C    P0    26W / 250W |      0MiB / 16280MiB |      0%      Default |\n",
            "|                               |                      |                  N/A |\n",
            "+-------------------------------+----------------------+----------------------+\n",
            "                                                                               \n",
            "+-----------------------------------------------------------------------------+\n",
            "| Processes:                                                                  |\n",
            "|  GPU   GI   CI        PID   Type   Process name                  GPU Memory |\n",
            "|        ID   ID                                                   Usage      |\n",
            "|=============================================================================|\n",
            "|  No running processes found                                                 |\n",
            "+-----------------------------------------------------------------------------+\n"
          ]
        }
      ]
    },
    {
      "cell_type": "code",
      "metadata": {
        "colab": {
          "base_uri": "https://localhost:8080/"
        },
        "id": "HTUPM4U7c6eo",
        "outputId": "da28e84f-6997-4b38-f253-f7f70e6353a2"
      },
      "source": [
        "from psutil import virtual_memory\n",
        "ram_gb = virtual_memory().total / 1e9\n",
        "print('Your runtime has {:.1f} gigabytes of available RAM\\n'.format(ram_gb))\n",
        "\n",
        "if ram_gb < 20:\n",
        "  print('To enable a high-RAM runtime, select the Runtime > \"Change runtime type\"')\n",
        "  print('menu, and then select High-RAM in the Runtime shape dropdown. Then, ')\n",
        "  print('re-execute this cell.')\n",
        "else:\n",
        "  print('You are using a high-RAM runtime!')"
      ],
      "execution_count": null,
      "outputs": [
        {
          "output_type": "stream",
          "name": "stdout",
          "text": [
            "Your runtime has 27.3 gigabytes of available RAM\n",
            "\n",
            "You are using a high-RAM runtime!\n"
          ]
        }
      ]
    },
    {
      "cell_type": "code",
      "metadata": {
        "id": "3KGZlzuF_uvQ"
      },
      "source": [
        "%%capture\n",
        "!pip install wandb --upgrade"
      ],
      "execution_count": null,
      "outputs": []
    },
    {
      "cell_type": "code",
      "metadata": {
        "colab": {
          "base_uri": "https://localhost:8080/",
          "height": 69
        },
        "id": "JvHDW-qu_vo8",
        "outputId": "10de516f-bb84-4a99-ed48-466c1459c942"
      },
      "source": [
        "import wandb\n",
        "from wandb.keras import WandbCallback\n",
        "wandb.login()"
      ],
      "execution_count": null,
      "outputs": [
        {
          "output_type": "display_data",
          "data": {
            "application/javascript": [
              "\n",
              "        window._wandbApiKey = new Promise((resolve, reject) => {\n",
              "            function loadScript(url) {\n",
              "            return new Promise(function(resolve, reject) {\n",
              "                let newScript = document.createElement(\"script\");\n",
              "                newScript.onerror = reject;\n",
              "                newScript.onload = resolve;\n",
              "                document.body.appendChild(newScript);\n",
              "                newScript.src = url;\n",
              "            });\n",
              "            }\n",
              "            loadScript(\"https://cdn.jsdelivr.net/npm/postmate/build/postmate.min.js\").then(() => {\n",
              "            const iframe = document.createElement('iframe')\n",
              "            iframe.style.cssText = \"width:0;height:0;border:none\"\n",
              "            document.body.appendChild(iframe)\n",
              "            const handshake = new Postmate({\n",
              "                container: iframe,\n",
              "                url: 'https://wandb.ai/authorize'\n",
              "            });\n",
              "            const timeout = setTimeout(() => reject(\"Couldn't auto authenticate\"), 5000)\n",
              "            handshake.then(function(child) {\n",
              "                child.on('authorize', data => {\n",
              "                    clearTimeout(timeout)\n",
              "                    resolve(data)\n",
              "                });\n",
              "            });\n",
              "            })\n",
              "        });\n",
              "    "
            ],
            "text/plain": [
              "<IPython.core.display.Javascript object>"
            ]
          },
          "metadata": {}
        },
        {
          "output_type": "stream",
          "name": "stderr",
          "text": [
            "\u001b[34m\u001b[1mwandb\u001b[0m: Appending key for api.wandb.ai to your netrc file: /root/.netrc\n"
          ]
        },
        {
          "output_type": "execute_result",
          "data": {
            "text/plain": [
              "True"
            ]
          },
          "metadata": {},
          "execution_count": 5
        }
      ]
    },
    {
      "cell_type": "code",
      "metadata": {
        "id": "mDjnrU_BRQlb"
      },
      "source": [
        " #Importar modulos\n",
        "\n",
        "import os\n",
        "import keras\n",
        "import numpy as np  \n",
        "import pandas as pd \n",
        "import matplotlib.pyplot as plt\n",
        "#%matplotlib inline\n",
        "\n",
        "from keras.models import Sequential\n",
        "from keras.layers import Flatten, Dense, Dropout, Embedding, LSTM\n",
        "from keras import regularizers, layers, preprocessing\n",
        "from sklearn.metrics import confusion_matrix, precision_score, recall_score, accuracy_score, f1_score, hamming_loss, matthews_corrcoef, cohen_kappa_score\n",
        "from sklearn.metrics import roc_auc_score, roc_curve, precision_recall_curve, average_precision_score\n",
        "\n",
        "from keras.preprocessing.text import Tokenizer\n",
        "from keras.preprocessing.sequence import pad_sequences\n",
        "\n",
        "import tensorflow as tf"
      ],
      "execution_count": null,
      "outputs": []
    },
    {
      "cell_type": "code",
      "metadata": {
        "colab": {
          "base_uri": "https://localhost:8080/"
        },
        "id": "lecM3dce52wG",
        "outputId": "c62a9bf5-f494-433c-cf81-04d8dc253220"
      },
      "source": [
        "!git clone https://github.com/RichardUABC/ResistData.git\n"
      ],
      "execution_count": null,
      "outputs": [
        {
          "output_type": "stream",
          "name": "stdout",
          "text": [
            "fatal: destination path 'ResistData' already exists and is not an empty directory.\n"
          ]
        }
      ]
    },
    {
      "cell_type": "code",
      "metadata": {
        "colab": {
          "base_uri": "https://localhost:8080/"
        },
        "id": "BRpHhdThaUIc",
        "outputId": "01e3b3d4-7260-4add-eff2-bb6418287985"
      },
      "source": [
        "#cargar data set\n",
        "DataRaw = np.load('/content/ResistData/dataset.npy', allow_pickle=True)\n",
        "print(type(DataRaw))\n",
        "print(DataRaw.ndim)\n",
        "DataRaw"
      ],
      "execution_count": null,
      "outputs": [
        {
          "output_type": "stream",
          "name": "stdout",
          "text": [
            "<class 'numpy.ndarray'>\n",
            "0\n"
          ]
        },
        {
          "output_type": "execute_result",
          "data": {
            "text/plain": [
              "array({'resistant': array([False, False, False, ...,  True,  True, False]), 'genes': array(['ATGCACTACCGTATGATCCCCCTTCACTGGATGATGGAAATTGACTGCAATGGCTGCGCTAATAATACTTTGTCTCGTCGTTGGAATTACGACTTCTGGCACAAACACGTTGAACAGGTTAAATGCTACCGTCACAATATTCGTGACCAGACTTGA',\n",
              "       'ATGCACTACCGTATGATTCACTGGATGATGGAAATTGACTGCAATGGCTGCGCTAATAATACTTTGTCTCGTCGTTGGAATTACGACTTCTGGCACAAACCCGTTGAACAGGTTAAATGCTACCGTCACAATATTCGTGACCAGACTTGA',\n",
              "       'ATGCACTACCGTATGATTCACTGGATCGTGATGGAAATTGACTGCAATGGCTGCGCTAATAATACTTTGTCTCGTCGTTGGAATTACGACTTCTGGCACAAACACGTTGAACAGGTTAAATGCTACCGTCACAATATTCGTGACCAGACTTGA',\n",
              "       ...,\n",
              "       'ATGCACTACCGTATGATTCACTGGATGATGGAAACTGCAATGGCTGCGCTAATAATACTTTGTCTCGTCGTTGGAATTACGACTTCTGGCACAAACACGTTGAACAGGTTAAATGCTACCGTCACAATATTCGTGACCAGACTTGA',\n",
              "       'ATGCACTACCGTATGATTCACTGGATGATGGAAATTGACTTGCAATGGCTGCGCTAATAATACTTTGTCTCGTCGTTGGAATTACGACTTCTGGCACAAACACGTTGAACAGGTTAAATGCTACCGTCACAATATTCGTGACCAGACTTGA',\n",
              "       'ATGCACTACCGTATGATTCACTGGATGATGGAAATTGACTGCAATGGCTGCGCTAATAATACTTTGTCTCGTCGTTGGAATTACGACTTCTGGCACAAACACGTTGAACAGGTTAAATGCTACCGTCACAATATTCGTGACCAGACTTGA'],\n",
              "      dtype=object)}, dtype=object)"
            ]
          },
          "metadata": {},
          "execution_count": 4
        }
      ]
    },
    {
      "cell_type": "code",
      "metadata": {
        "colab": {
          "base_uri": "https://localhost:8080/",
          "height": 600
        },
        "id": "MbxADZ8-dLKJ",
        "outputId": "d561f0c7-a776-4448-8a57-baf793639f63"
      },
      "source": [
        "\n",
        "\n",
        "# Tranformar como diccionario\n",
        "Datadict = DataRaw[()]\n",
        "print(Datadict)\n",
        "\n",
        "# Transformar dataframe\n",
        "DataDf = pd.DataFrame.from_dict(Datadict)\n",
        "print(DataDf.shape)\n",
        "DataDf"
      ],
      "execution_count": null,
      "outputs": [
        {
          "output_type": "stream",
          "name": "stdout",
          "text": [
            "{'resistant': array([False, False, False, ...,  True,  True, False]), 'genes': array(['ATGCACTACCGTATGATCCCCCTTCACTGGATGATGGAAATTGACTGCAATGGCTGCGCTAATAATACTTTGTCTCGTCGTTGGAATTACGACTTCTGGCACAAACACGTTGAACAGGTTAAATGCTACCGTCACAATATTCGTGACCAGACTTGA',\n",
            "       'ATGCACTACCGTATGATTCACTGGATGATGGAAATTGACTGCAATGGCTGCGCTAATAATACTTTGTCTCGTCGTTGGAATTACGACTTCTGGCACAAACCCGTTGAACAGGTTAAATGCTACCGTCACAATATTCGTGACCAGACTTGA',\n",
            "       'ATGCACTACCGTATGATTCACTGGATCGTGATGGAAATTGACTGCAATGGCTGCGCTAATAATACTTTGTCTCGTCGTTGGAATTACGACTTCTGGCACAAACACGTTGAACAGGTTAAATGCTACCGTCACAATATTCGTGACCAGACTTGA',\n",
            "       ...,\n",
            "       'ATGCACTACCGTATGATTCACTGGATGATGGAAACTGCAATGGCTGCGCTAATAATACTTTGTCTCGTCGTTGGAATTACGACTTCTGGCACAAACACGTTGAACAGGTTAAATGCTACCGTCACAATATTCGTGACCAGACTTGA',\n",
            "       'ATGCACTACCGTATGATTCACTGGATGATGGAAATTGACTTGCAATGGCTGCGCTAATAATACTTTGTCTCGTCGTTGGAATTACGACTTCTGGCACAAACACGTTGAACAGGTTAAATGCTACCGTCACAATATTCGTGACCAGACTTGA',\n",
            "       'ATGCACTACCGTATGATTCACTGGATGATGGAAATTGACTGCAATGGCTGCGCTAATAATACTTTGTCTCGTCGTTGGAATTACGACTTCTGGCACAAACACGTTGAACAGGTTAAATGCTACCGTCACAATATTCGTGACCAGACTTGA'],\n",
            "      dtype=object)}\n",
            "(100000, 2)\n"
          ]
        },
        {
          "output_type": "execute_result",
          "data": {
            "text/html": [
              "<div>\n",
              "<style scoped>\n",
              "    .dataframe tbody tr th:only-of-type {\n",
              "        vertical-align: middle;\n",
              "    }\n",
              "\n",
              "    .dataframe tbody tr th {\n",
              "        vertical-align: top;\n",
              "    }\n",
              "\n",
              "    .dataframe thead th {\n",
              "        text-align: right;\n",
              "    }\n",
              "</style>\n",
              "<table border=\"1\" class=\"dataframe\">\n",
              "  <thead>\n",
              "    <tr style=\"text-align: right;\">\n",
              "      <th></th>\n",
              "      <th>resistant</th>\n",
              "      <th>genes</th>\n",
              "    </tr>\n",
              "  </thead>\n",
              "  <tbody>\n",
              "    <tr>\n",
              "      <th>0</th>\n",
              "      <td>False</td>\n",
              "      <td>ATGCACTACCGTATGATCCCCCTTCACTGGATGATGGAAATTGACT...</td>\n",
              "    </tr>\n",
              "    <tr>\n",
              "      <th>1</th>\n",
              "      <td>False</td>\n",
              "      <td>ATGCACTACCGTATGATTCACTGGATGATGGAAATTGACTGCAATG...</td>\n",
              "    </tr>\n",
              "    <tr>\n",
              "      <th>2</th>\n",
              "      <td>False</td>\n",
              "      <td>ATGCACTACCGTATGATTCACTGGATCGTGATGGAAATTGACTGCA...</td>\n",
              "    </tr>\n",
              "    <tr>\n",
              "      <th>3</th>\n",
              "      <td>False</td>\n",
              "      <td>ATGCACTACCGTATGATTCACTGGGTGATGGAAATTGACTGCAATG...</td>\n",
              "    </tr>\n",
              "    <tr>\n",
              "      <th>4</th>\n",
              "      <td>False</td>\n",
              "      <td>ATGCACGACCGTATCATTCACTGGATGATGGAAATTGACTGCAATG...</td>\n",
              "    </tr>\n",
              "    <tr>\n",
              "      <th>...</th>\n",
              "      <td>...</td>\n",
              "      <td>...</td>\n",
              "    </tr>\n",
              "    <tr>\n",
              "      <th>99995</th>\n",
              "      <td>False</td>\n",
              "      <td>ATGCACTACCGTATGATTCACTGGATGATGGAAACTCTCTTTGACT...</td>\n",
              "    </tr>\n",
              "    <tr>\n",
              "      <th>99996</th>\n",
              "      <td>False</td>\n",
              "      <td>ATGCACTACCGTATGATTCACTGGATGATGGAAATTGACTGCAATG...</td>\n",
              "    </tr>\n",
              "    <tr>\n",
              "      <th>99997</th>\n",
              "      <td>True</td>\n",
              "      <td>ATGCACTACCGTATGATTCACTGGATGATGGAAACTGCAATGGCTG...</td>\n",
              "    </tr>\n",
              "    <tr>\n",
              "      <th>99998</th>\n",
              "      <td>True</td>\n",
              "      <td>ATGCACTACCGTATGATTCACTGGATGATGGAAATTGACTTGCAAT...</td>\n",
              "    </tr>\n",
              "    <tr>\n",
              "      <th>99999</th>\n",
              "      <td>False</td>\n",
              "      <td>ATGCACTACCGTATGATTCACTGGATGATGGAAATTGACTGCAATG...</td>\n",
              "    </tr>\n",
              "  </tbody>\n",
              "</table>\n",
              "<p>100000 rows × 2 columns</p>\n",
              "</div>"
            ],
            "text/plain": [
              "       resistant                                              genes\n",
              "0          False  ATGCACTACCGTATGATCCCCCTTCACTGGATGATGGAAATTGACT...\n",
              "1          False  ATGCACTACCGTATGATTCACTGGATGATGGAAATTGACTGCAATG...\n",
              "2          False  ATGCACTACCGTATGATTCACTGGATCGTGATGGAAATTGACTGCA...\n",
              "3          False  ATGCACTACCGTATGATTCACTGGGTGATGGAAATTGACTGCAATG...\n",
              "4          False  ATGCACGACCGTATCATTCACTGGATGATGGAAATTGACTGCAATG...\n",
              "...          ...                                                ...\n",
              "99995      False  ATGCACTACCGTATGATTCACTGGATGATGGAAACTCTCTTTGACT...\n",
              "99996      False  ATGCACTACCGTATGATTCACTGGATGATGGAAATTGACTGCAATG...\n",
              "99997       True  ATGCACTACCGTATGATTCACTGGATGATGGAAACTGCAATGGCTG...\n",
              "99998       True  ATGCACTACCGTATGATTCACTGGATGATGGAAATTGACTTGCAAT...\n",
              "99999      False  ATGCACTACCGTATGATTCACTGGATGATGGAAATTGACTGCAATG...\n",
              "\n",
              "[100000 rows x 2 columns]"
            ]
          },
          "metadata": {},
          "execution_count": 5
        }
      ]
    },
    {
      "cell_type": "code",
      "metadata": {
        "id": "AVuoELKjRe5H",
        "colab": {
          "base_uri": "https://localhost:8080/",
          "height": 364
        },
        "outputId": "806d136f-5228-48f5-9648-b7b6a47d08d6"
      },
      "source": [
        "\n",
        "\n",
        "\n",
        "# promedio  / Max / Min ancho de columna\n",
        "\n",
        "DataDf.fillna('').astype(str).apply(lambda x:x.str.len()).max()\n",
        "\n",
        "# observar si los datos estan balanceados\n",
        "\n",
        "DataDf.groupby('resistant').size().plot.bar()\n",
        "plt.show()\n",
        "\n",
        "\n",
        "# Tokenize caracteres a numeros enteros\n",
        "\n",
        "Datatok = DataDf.copy()\n",
        "maxlen = 160 # Limita el numero de caracteres \n",
        "\n",
        "max_words = 4 # Numero de caracteres del diccionario que considera ATGC\n",
        "max_features = max_words\n",
        "\n",
        "tokenizer = Tokenizer(num_words=max_words, char_level=True)\n",
        "tokenizer.fit_on_texts(list(Datatok['genes']))\n",
        "sequences = tokenizer.texts_to_sequences(list(Datatok['genes']))\n",
        "word_index = tokenizer.word_index\n",
        "Xpad = pad_sequences(sequences, maxlen=maxlen, padding='post', truncating='post', value=0)\n",
        "\n",
        "print('Found %s unique tokens.' % len(word_index))\n",
        "print('word_index', word_index)\n",
        "\n",
        "# Separa las etiquetas\n",
        "\n",
        "labels = np.asarray(Datatok['resistant'])\n",
        "print(Xpad.shape)\n",
        "print(labels.shape)\n",
        "\n",
        "\n"
      ],
      "execution_count": null,
      "outputs": [
        {
          "output_type": "display_data",
          "data": {
            "image/png": "[encoded data removed]",
            "text/plain": [
              "<Figure size 432x288 with 1 Axes>"
            ]
          },
          "metadata": {
            "needs_background": "light"
          }
        },
        {
          "output_type": "stream",
          "name": "stdout",
          "text": [
            "Found 4 unique tokens.\n",
            "word_index {'a': 1, 't': 2, 'c': 3, 'g': 4}\n",
            "(100000, 160)\n",
            "(100000,)\n"
          ]
        }
      ]
    },
    {
      "cell_type": "code",
      "metadata": {
        "id": "DOfNgVbC1xFh",
        "colab": {
          "base_uri": "https://localhost:8080/"
        },
        "outputId": "43527037-b254-4f52-856a-6419dc27c927"
      },
      "source": [
        "# Revisa una muestra\n",
        "\n",
        "rowNum = 70\n",
        "print(Datatok['genes'][rowNum])\n",
        "print(sequences[rowNum])\n",
        "print(Xpad[rowNum])\n",
        "print(labels[rowNum])"
      ],
      "execution_count": null,
      "outputs": [
        {
          "output_type": "stream",
          "name": "stdout",
          "text": [
            "ATGCACTACCGTATGATTCTTCTTACTGGATGATGGAAATTGACTGCAATGGCTGCGCTAATAATACTTTGTCTCGTCGTTGGAATTACGACTTCTGGCACAAACACGTTGAACAGGTTAAATGCTACCGTCACAATATTCGTGACCAGACTTGA\n",
            "[1, 2, 3, 1, 3, 2, 1, 3, 3, 2, 1, 2, 1, 2, 2, 3, 2, 2, 3, 2, 2, 1, 3, 2, 1, 2, 1, 2, 1, 1, 1, 2, 2, 1, 3, 2, 3, 1, 1, 2, 3, 2, 3, 3, 2, 1, 1, 2, 1, 1, 2, 1, 3, 2, 2, 2, 2, 3, 2, 3, 2, 3, 2, 2, 1, 1, 2, 2, 1, 3, 1, 3, 2, 2, 3, 2, 3, 1, 3, 1, 1, 1, 3, 1, 3, 2, 2, 1, 1, 3, 1, 2, 2, 1, 1, 1, 2, 3, 2, 1, 3, 3, 2, 3, 1, 3, 1, 1, 2, 1, 2, 2, 3, 2, 1, 3, 3, 1, 1, 3, 2, 2, 1]\n",
            "[1 2 3 1 3 2 1 3 3 2 1 2 1 2 2 3 2 2 3 2 2 1 3 2 1 2 1 2 1 1 1 2 2 1 3 2 3\n",
            " 1 1 2 3 2 3 3 2 1 1 2 1 1 2 1 3 2 2 2 2 3 2 3 2 3 2 2 1 1 2 2 1 3 1 3 2 2\n",
            " 3 2 3 1 3 1 1 1 3 1 3 2 2 1 1 3 1 2 2 1 1 1 2 3 2 1 3 3 2 3 1 3 1 1 2 1 2\n",
            " 2 3 2 1 3 3 1 1 3 2 2 1 0 0 0 0 0 0 0 0 0 0 0 0 0 0 0 0 0 0 0 0 0 0 0 0 0\n",
            " 0 0 0 0 0 0 0 0 0 0 0 0]\n",
            "True\n"
          ]
        }
      ]
    },
    {
      "cell_type": "code",
      "metadata": {
        "colab": {
          "base_uri": "https://localhost:8080/"
        },
        "id": "5jjyd5bX79tb",
        "outputId": "3d0353e5-8d2f-432a-be65-edb022e52640"
      },
      "source": [
        "# Crea datos de entrenamiento y prueba\n",
        "\n",
        "training_samples = int(Xpad.shape[0] * 0.9)\n",
        "\n",
        "\n",
        "indices = np.arange(Xpad.shape[0])\n",
        "np.random.shuffle(indices) \n",
        "Xpad = Xpad[indices]\n",
        "labels = labels[indices]\n",
        "\n",
        "x_train = Xpad[:training_samples]\n",
        "y_train = labels[:training_samples]\n",
        "x_test = Xpad[training_samples: ]\n",
        "y_test = labels[training_samples: ]\n",
        "\n",
        "print('x_train', x_train.shape)\n",
        "print('y_train', y_train.shape)\n",
        "print('x_test', x_test.shape)\n",
        "print('y_test', y_test.shape)"
      ],
      "execution_count": null,
      "outputs": [
        {
          "output_type": "stream",
          "name": "stdout",
          "text": [
            "x_train (90000, 160)\n",
            "y_train (90000,)\n",
            "x_test (10000, 160)\n",
            "y_test (10000,)\n"
          ]
        }
      ]
    },
    {
      "cell_type": "code",
      "metadata": {
        "colab": {
          "base_uri": "https://localhost:8080/"
        },
        "id": "toWdz5cN8ZBA",
        "outputId": "195f4ce0-b075-40bc-a5ef-5f0d17fb3b43"
      },
      "source": [
        "# Modelo ... 128 CNN ventana 27 & Bidirectional GRU accuracy = \n",
        "\n",
        "model_CNN = Sequential()\n",
        "model_CNN.add(Embedding(4, 1, input_length=maxlen))\n",
        "model_CNN.add(layers.Conv1D(128, 27, activation='relu'))\n",
        "model_CNN.add(layers.MaxPooling1D(9))\n",
        "model_CNN.add(layers.Dropout(0.5))\n",
        "model_CNN.add(layers.Conv1D(128, 9, activation='relu'))\n",
        "model_CNN.add(layers.Dropout(0.5))\n",
        "model_CNN.add(layers.Bidirectional(layers.GRU(32, dropout=0.2, recurrent_dropout=0.2)))\n",
        "model_CNN.add(Dense(1, activation='sigmoid'))\n",
        "model_CNN.compile(optimizer='adam', loss='binary_crossentropy', metrics=['acc'])\n",
        "model_CNN.summary()"
      ],
      "execution_count": null,
      "outputs": [
        {
          "output_type": "stream",
          "name": "stdout",
          "text": [
            "WARNING:tensorflow:Layer gru will not use cuDNN kernels since it doesn't meet the criteria. It will use a generic GPU kernel as fallback when running on GPU.\n",
            "WARNING:tensorflow:Layer gru will not use cuDNN kernels since it doesn't meet the criteria. It will use a generic GPU kernel as fallback when running on GPU.\n",
            "WARNING:tensorflow:Layer gru will not use cuDNN kernels since it doesn't meet the criteria. It will use a generic GPU kernel as fallback when running on GPU.\n",
            "Model: \"sequential\"\n",
            "_________________________________________________________________\n",
            " Layer (type)                Output Shape              Param #   \n",
            "=================================================================\n",
            " embedding (Embedding)       (None, 160, 1)            4         \n",
            "                                                                 \n",
            " conv1d (Conv1D)             (None, 134, 128)          3584      \n",
            "                                                                 \n",
            " max_pooling1d (MaxPooling1D  (None, 14, 128)          0         \n",
            " )                                                               \n",
            "                                                                 \n",
            " dropout (Dropout)           (None, 14, 128)           0         \n",
            "                                                                 \n",
            " conv1d_1 (Conv1D)           (None, 6, 128)            147584    \n",
            "                                                                 \n",
            " dropout_1 (Dropout)         (None, 6, 128)            0         \n",
            "                                                                 \n",
            " bidirectional (Bidirectiona  (None, 64)               31104     \n",
            " l)                                                              \n",
            "                                                                 \n",
            " dense (Dense)               (None, 1)                 65        \n",
            "                                                                 \n",
            "=================================================================\n",
            "Total params: 182,341\n",
            "Trainable params: 182,341\n",
            "Non-trainable params: 0\n",
            "_________________________________________________________________\n"
          ]
        }
      ]
    },
    {
      "cell_type": "code",
      "metadata": {
        "colab": {
          "base_uri": "https://localhost:8080/",
          "height": 645,
          "referenced_widgets": [
            "88734cf740954dbf931fb7e2b310df1c",
            "603bed7692764f3eb90a7e3727cacb17",
            "7412b41e2d2543a28dbc8a3d82b24d92",
            "a0450c4950a143fd80520211fd53a24f",
            "edc2d44edb6d424882dc5e7aab241d74",
            "55178904ffd8423ca68c8f8331a39d12",
            "28619ee25a4e4849ac0b80a05d6284f2",
            "ed16ab3afc4c4ceb89e07c1bbcd9457a"
          ]
        },
        "id": "ombszR0TAjHd",
        "outputId": "874ebcb5-4373-44a1-866b-675c40cd155f"
      },
      "source": [
        "# Initialize wandb with your project name\n",
        "run = wandb.init(project='Proyecto_IDD',\n",
        "                 config={  # and include hyperparameters and metadata\n",
        "                     \"learning_rate\": 0.001,\n",
        "                     \"epochs\": 10,\n",
        "                     \"batch_size\": 32,\n",
        "                     \"loss_function\": \"binary_crossentropy\"                    \n",
        "                 })\n",
        "config = wandb.config  # We'll use this to configure our experiment\n",
        "\n",
        "# Initialize model like you usually do.\n",
        "tf.keras.backend.clear_session()\n",
        "#model = model()\n",
        "model_CNN.summary()\n",
        "\n"
      ],
      "execution_count": null,
      "outputs": [
        {
          "output_type": "display_data",
          "data": {
            "text/html": [
              "Finishing last run (ID:qy791mkf) before initializing another..."
            ],
            "text/plain": [
              "<IPython.core.display.HTML object>"
            ]
          },
          "metadata": {}
        },
        {
          "output_type": "display_data",
          "data": {
            "text/html": [
              "<br/>Waiting for W&B process to finish, PID 329... <strong style=\"color:green\">(success).</strong>"
            ],
            "text/plain": [
              "<IPython.core.display.HTML object>"
            ]
          },
          "metadata": {}
        },
        {
          "output_type": "display_data",
          "data": {
            "application/vnd.jupyter.widget-view+json": {
              "model_id": "88734cf740954dbf931fb7e2b310df1c",
              "version_minor": 0,
              "version_major": 2
            },
            "text/plain": [
              "VBox(children=(Label(value=' 0.00MB of 0.00MB uploaded (0.00MB deduped)\\r'), FloatProgress(value=1.0, max=1.0)…"
            ]
          },
          "metadata": {}
        },
        {
          "output_type": "display_data",
          "data": {
            "text/html": [
              "<style>\n",
              "    table.wandb td:nth-child(1) { padding: 0 10px; text-align: right }\n",
              "    .wandb-row { display: flex; flex-direction: row; flex-wrap: wrap; width: 100% }\n",
              "    .wandb-col { display: flex; flex-direction: column; flex-basis: 100%; flex: 1; padding: 10px; }\n",
              "    </style>\n",
              "<div class=\"wandb-row\"><div class=\"wandb-col\">\n",
              "</div><div class=\"wandb-col\">\n",
              "</div></div>\n",
              "Synced 4 W&B file(s), 0 media file(s), 0 artifact file(s) and 0 other file(s)\n",
              "<br/>Synced <strong style=\"color:#cdcd00\">distinctive-glitter-2</strong>: <a href=\"https://wandb.ai/perea/Proyecto_IDD/runs/qy791mkf\" target=\"_blank\">https://wandb.ai/perea/Proyecto_IDD/runs/qy791mkf</a><br/>\n",
              "Find logs at: <code>./wandb/run-20211201_155742-qy791mkf/logs</code><br/>\n"
            ],
            "text/plain": [
              "<IPython.core.display.HTML object>"
            ]
          },
          "metadata": {}
        },
        {
          "output_type": "display_data",
          "data": {
            "text/html": [
              "Successfully finished last run (ID:qy791mkf). Initializing new run:<br/>"
            ],
            "text/plain": [
              "<IPython.core.display.HTML object>"
            ]
          },
          "metadata": {}
        },
        {
          "output_type": "display_data",
          "data": {
            "text/html": [
              "\n",
              "                    Syncing run <strong><a href=\"https://wandb.ai/perea/Proyecto_IDD/runs/1n59cauj\" target=\"_blank\">daily-pine-3</a></strong> to <a href=\"https://wandb.ai/perea/Proyecto_IDD\" target=\"_blank\">Weights & Biases</a> (<a href=\"https://docs.wandb.com/integrations/jupyter.html\" target=\"_blank\">docs</a>).<br/>\n",
              "\n",
              "                "
            ],
            "text/plain": [
              "<IPython.core.display.HTML object>"
            ]
          },
          "metadata": {}
        },
        {
          "output_type": "stream",
          "name": "stdout",
          "text": [
            "Model: \"sequential\"\n",
            "_________________________________________________________________\n",
            " Layer (type)                Output Shape              Param #   \n",
            "=================================================================\n",
            " embedding (Embedding)       (None, 160, 1)            4         \n",
            "                                                                 \n",
            " conv1d (Conv1D)             (None, 134, 128)          3584      \n",
            "                                                                 \n",
            " max_pooling1d (MaxPooling1D  (None, 14, 128)          0         \n",
            " )                                                               \n",
            "                                                                 \n",
            " dropout (Dropout)           (None, 14, 128)           0         \n",
            "                                                                 \n",
            " conv1d_1 (Conv1D)           (None, 6, 128)            147584    \n",
            "                                                                 \n",
            " dropout_1 (Dropout)         (None, 6, 128)            0         \n",
            "                                                                 \n",
            " bidirectional (Bidirectiona  (None, 64)               31104     \n",
            " l)                                                              \n",
            "                                                                 \n",
            " dense (Dense)               (None, 1)                 65        \n",
            "                                                                 \n",
            "=================================================================\n",
            "Total params: 182,341\n",
            "Trainable params: 182,341\n",
            "Non-trainable params: 0\n",
            "_________________________________________________________________\n"
          ]
        }
      ]
    },
    {
      "cell_type": "code",
      "metadata": {
        "id": "kAyNx5qWBRg8"
      },
      "source": [
        "logging_callback = WandbCallback(log_evaluation=True)"
      ],
      "execution_count": null,
      "outputs": []
    },
    {
      "cell_type": "code",
      "metadata": {
        "colab": {
          "base_uri": "https://localhost:8080/"
        },
        "id": "IIHIMkbQ8ZxC",
        "outputId": "88d47778-f7b4-4cf4-d84c-0855afecdb85"
      },
      "source": [
        "\n",
        "# Entrenar el modelo \n",
        "\n",
        "history_CNN = model_CNN.fit(x_train, y_train, batch_size=32, epochs = 10,callbacks=[logging_callback])\n",
        "\n"
      ],
      "execution_count": null,
      "outputs": [
        {
          "output_type": "stream",
          "name": "stderr",
          "text": [
            "\u001b[34m\u001b[1mwandb\u001b[0m: \u001b[33mWARNING\u001b[0m WandbCallback is unable to read validation_data from trainer and therefore cannot log validation data. Ensure Keras is properly patched by calling `from wandb.keras import WandbCallback` at the top of your script.\n"
          ]
        },
        {
          "output_type": "stream",
          "name": "stdout",
          "text": [
            "Epoch 1/10\n",
            "2813/2813 [==============================] - 127s 41ms/step - loss: 0.5774 - acc: 0.6516\n",
            "Epoch 2/10\n",
            "2813/2813 [==============================] - 114s 40ms/step - loss: 0.4944 - acc: 0.7194\n",
            "Epoch 3/10\n",
            "2813/2813 [==============================] - 115s 41ms/step - loss: 0.4464 - acc: 0.7527\n",
            "Epoch 4/10\n",
            "2813/2813 [==============================] - 113s 40ms/step - loss: 0.4193 - acc: 0.7676\n",
            "Epoch 5/10\n",
            "2813/2813 [==============================] - 113s 40ms/step - loss: 0.4083 - acc: 0.7714\n",
            "Epoch 6/10\n",
            "2813/2813 [==============================] - 114s 40ms/step - loss: 0.4000 - acc: 0.7758\n",
            "Epoch 7/10\n",
            "2813/2813 [==============================] - 114s 40ms/step - loss: 0.3951 - acc: 0.7780\n",
            "Epoch 8/10\n",
            "2813/2813 [==============================] - 113s 40ms/step - loss: 0.3900 - acc: 0.7820\n",
            "Epoch 9/10\n",
            "2813/2813 [==============================] - 113s 40ms/step - loss: 0.3861 - acc: 0.7827\n",
            "Epoch 10/10\n",
            "2813/2813 [==============================] - 114s 41ms/step - loss: 0.3833 - acc: 0.7852\n"
          ]
        }
      ]
    },
    {
      "cell_type": "code",
      "metadata": {
        "colab": {
          "base_uri": "https://localhost:8080/"
        },
        "id": "mdV93kQluJm4",
        "outputId": "890974b3-fb5b-4ecb-e585-6f316dc2c6ae"
      },
      "source": [
        "# Prediccion final \n",
        "\n",
        "final_predictions_CNN = model_CNN.predict(x_test)\n",
        "print(final_predictions_CNN)\n",
        "\n",
        "# Modifica las prediciones a  0 y 1\n",
        "# Cutoff point = 0.5\n",
        "\n",
        "Preds_CNN = final_predictions_CNN.copy()\n",
        "print(len(Preds_CNN))\n",
        "\n",
        "Preds_CNN[ np.where( Preds_CNN >= 0.5 ) ] = 1\n",
        "Preds_CNN[ np.where( Preds_CNN < 0.5 ) ] = 0\n",
        "print(Preds_CNN)"
      ],
      "execution_count": null,
      "outputs": [
        {
          "output_type": "stream",
          "name": "stdout",
          "text": [
            "[[0.9998522 ]\n",
            " [0.36710277]\n",
            " [0.00787355]\n",
            " ...\n",
            " [0.01712963]\n",
            " [0.35146847]\n",
            " [0.6507306 ]]\n",
            "10000\n",
            "[[1.]\n",
            " [0.]\n",
            " [0.]\n",
            " ...\n",
            " [0.]\n",
            " [0.]\n",
            " [1.]]\n"
          ]
        }
      ]
    },
    {
      "cell_type": "code",
      "metadata": {
        "colab": {
          "base_uri": "https://localhost:8080/"
        },
        "id": "jxC73Cv9y0bo",
        "outputId": "c6fc20e3-70cb-440e-c0b5-dc21ce47dac4"
      },
      "source": [
        "#MEtricas\n",
        "print(\"Accuracy:\", accuracy_score(y_test,Preds_CNN))\n",
        "print(\"F1 Score:\", f1_score(y_test,Preds_CNN))\n",
        "print(\"Precicion:\", precision_score(y_test,Preds_CNN))\n",
        "print(\"Recall:\", recall_score(y_test,Preds_CNN))\n",
        "print(\"Hamming Loss:\", hamming_loss(y_test,Preds_CNN))\n",
        "print(\"Cohen Kappa:\", cohen_kappa_score(y_test,Preds_CNN))\n",
        "print(\"Matthews Coeficient:\", matthews_corrcoef(y_test,Preds_CNN))"
      ],
      "execution_count": null,
      "outputs": [
        {
          "output_type": "stream",
          "name": "stdout",
          "text": [
            "Accuracy: 0.7951\n",
            "F1 Score: 0.7701626472237803\n",
            "Precicion: 0.8919199792153806\n",
            "Recall: 0.6776549545992894\n",
            "Hamming Loss: 0.2049\n",
            "Cohen Kappa: 0.5914414623149513\n",
            "Matthews Coeficient: 0.6096638648974368\n"
          ]
        }
      ]
    },
    {
      "cell_type": "code",
      "metadata": {
        "colab": {
          "base_uri": "https://localhost:8080/",
          "height": 554
        },
        "id": "tNSek6lo1YPE",
        "outputId": "7743b8ca-f530-48dc-b7fa-ff93b9785cc4"
      },
      "source": [
        "\n",
        "# Matriz de confusión \n",
        "\n",
        "conf_mx = confusion_matrix(y_test, Preds_CNN)\n",
        "\n",
        "TN = conf_mx[0,0]\n",
        "FP = conf_mx[0,1]\n",
        "FN = conf_mx[1,0]\n",
        "TP = conf_mx[1,1]\n",
        "\n",
        "print ('TN: ', TN)\n",
        "print ('FP: ', FP)\n",
        "print ('FN: ', FN)\n",
        "print ('TP: ', TP)\n",
        "\n",
        "recall = TP/(TP+FN)\n",
        "precision = TP/(TP+FP)\n",
        "\n",
        "print (recall, precision)\n",
        "\n",
        "# funcion para graficar \n",
        "\n",
        "def plot_confusion_matrix(cm,target_names,title='Confusion matrix',cmap=None,\n",
        "                          normalize=False):\n",
        "    import itertools\n",
        "    accuracy = np.trace(cm) / float(np.sum(cm))\n",
        "    misclass = 1 - accuracy\n",
        "\n",
        "    if cmap is None:\n",
        "        cmap = plt.get_cmap('Blues')\n",
        "\n",
        "    plt.figure(figsize=(8, 6))\n",
        "    plt.imshow(cm, interpolation='nearest', cmap=cmap)\n",
        "    plt.title(title)\n",
        "    plt.colorbar()\n",
        "\n",
        "    if target_names is not None:\n",
        "        tick_marks = np.arange(len(target_names))\n",
        "        plt.xticks(tick_marks, target_names, rotation=45)\n",
        "        plt.yticks(tick_marks, target_names)\n",
        "\n",
        "    if normalize:\n",
        "        cm = cm.astype('float') / cm.sum(axis=1)[:, np.newaxis]\n",
        "    \n",
        "    thresh = cm.max() / 1.5 if normalize else cm.max() / 2\n",
        "    for i, j in itertools.product(range(cm.shape[0]), range(cm.shape[1])):\n",
        "        if normalize:\n",
        "            plt.text(j, i, \"{:0.4f}\".format(cm[i, j]),\n",
        "                     horizontalalignment=\"center\",\n",
        "                     color=\"white\" if cm[i, j] > thresh else \"black\")\n",
        "        else:\n",
        "            plt.text(j, i, \"{:,}\".format(cm[i, j]),\n",
        "                     horizontalalignment=\"center\",\n",
        "                     color=\"white\" if cm[i, j] > thresh else \"black\")\n",
        "\n",
        "\n",
        "    plt.tight_layout()\n",
        "    plt.ylabel('True label')\n",
        "    plt.xlabel('Predicted label\\naccuracy={:0.4f}; misclass={:0.4f}'.format(accuracy, misclass))\n",
        "    plt.show()\n",
        "    \n",
        "plot_confusion_matrix(conf_mx, \n",
        "                      normalize    = False,\n",
        "                      target_names = ['resistant', 'sensistive'],\n",
        "                      title        = \"Confusion Matrix \")"
      ],
      "execution_count": null,
      "outputs": [
        {
          "output_type": "stream",
          "name": "stdout",
          "text": [
            "TN:  4518\n",
            "FP:  416\n",
            "FN:  1633\n",
            "TP:  3433\n",
            "0.6776549545992894 0.8919199792153806\n"
          ]
        },
        {
          "output_type": "display_data",
          "data": {
            "image/png": "[encoded data removed]",
            "text/plain": [
              "<Figure size 576x432 with 2 Axes>"
            ]
          },
          "metadata": {
            "needs_background": "light"
          }
        }
      ]
    },
    {
      "cell_type": "code",
      "metadata": {
        "colab": {
          "base_uri": "https://localhost:8080/",
          "height": 337
        },
        "id": "ARHmcjfC8b2j",
        "outputId": "5b680096-50ba-4209-d3f1-22f92ce90a93"
      },
      "source": [
        "pd.DataFrame(history_CNN.history).plot(figsize=(8, 5))\n"
      ],
      "execution_count": null,
      "outputs": [
        {
          "output_type": "execute_result",
          "data": {
            "text/plain": [
              "<matplotlib.axes._subplots.AxesSubplot at 0x7f5adf898f90>"
            ]
          },
          "metadata": {},
          "execution_count": 33
        },
        {
          "output_type": "display_data",
          "data": {
            "image/png": "[encoded data removed]",
            "text/plain": [
              "<Figure size 576x360 with 1 Axes>"
            ]
          },
          "metadata": {
            "needs_background": "light"
          }
        }
      ]
    },
    {
      "cell_type": "code",
      "metadata": {
        "colab": {
          "base_uri": "https://localhost:8080/"
        },
        "id": "_QhD6Qt9F8Pn",
        "outputId": "6d16a564-6f97-4b2c-912c-45ddf9aac51b"
      },
      "source": [
        "\n",
        "# Entrenar el modelo \n",
        "\n",
        "history_val = model_CNN.fit(x_train, y_train, batch_size=32, epochs = 10,callbacks=[logging_callback],validation_split=0.1)\n"
      ],
      "execution_count": null,
      "outputs": [
        {
          "output_type": "stream",
          "name": "stderr",
          "text": [
            "\u001b[34m\u001b[1mwandb\u001b[0m: \u001b[33mWARNING\u001b[0m WandbCallback is unable to read validation_data from trainer and therefore cannot log validation data. Ensure Keras is properly patched by calling `from wandb.keras import WandbCallback` at the top of your script.\n"
          ]
        },
        {
          "output_type": "stream",
          "name": "stdout",
          "text": [
            "Epoch 1/10\n",
            "2532/2532 [==============================] - 106s 42ms/step - loss: 0.3821 - acc: 0.7850 - val_loss: 0.3578 - val_acc: 0.8040\n",
            "Epoch 2/10\n",
            "2532/2532 [==============================] - 105s 41ms/step - loss: 0.3799 - acc: 0.7871 - val_loss: 0.3637 - val_acc: 0.7992\n",
            "Epoch 3/10\n",
            "2532/2532 [==============================] - 100s 40ms/step - loss: 0.3788 - acc: 0.7861 - val_loss: 0.3646 - val_acc: 0.7968\n",
            "Epoch 4/10\n",
            "2532/2532 [==============================] - 100s 40ms/step - loss: 0.3767 - acc: 0.7874 - val_loss: 0.3645 - val_acc: 0.7981\n",
            "Epoch 5/10\n",
            "2532/2532 [==============================] - 104s 41ms/step - loss: 0.3765 - acc: 0.7865 - val_loss: 0.3672 - val_acc: 0.7946\n",
            "Epoch 6/10\n",
            "2532/2532 [==============================] - 104s 41ms/step - loss: 0.3731 - acc: 0.7898 - val_loss: 0.3540 - val_acc: 0.8039\n",
            "Epoch 7/10\n",
            "2532/2532 [==============================] - 103s 41ms/step - loss: 0.3741 - acc: 0.7891 - val_loss: 0.3578 - val_acc: 0.8046\n",
            "Epoch 8/10\n",
            "2532/2532 [==============================] - 103s 41ms/step - loss: 0.3732 - acc: 0.7898 - val_loss: 0.3559 - val_acc: 0.8020\n",
            "Epoch 9/10\n",
            "2532/2532 [==============================] - 103s 41ms/step - loss: 0.3718 - acc: 0.7903 - val_loss: 0.3527 - val_acc: 0.8030\n",
            "Epoch 10/10\n",
            "2532/2532 [==============================] - 103s 41ms/step - loss: 0.3717 - acc: 0.7913 - val_loss: 0.3530 - val_acc: 0.8010\n"
          ]
        }
      ]
    },
    {
      "cell_type": "code",
      "metadata": {
        "colab": {
          "base_uri": "https://localhost:8080/",
          "height": 337
        },
        "id": "CtkX6F1p7dZ8",
        "outputId": "911b5826-1821-4d26-c072-11cccdaaf325"
      },
      "source": [
        "pd.DataFrame(history_val.history).plot(figsize=(8, 5))\n"
      ],
      "execution_count": null,
      "outputs": [
        {
          "output_type": "execute_result",
          "data": {
            "text/plain": [
              "<matplotlib.axes._subplots.AxesSubplot at 0x7f5adf857690>"
            ]
          },
          "metadata": {},
          "execution_count": 34
        },
        {
          "output_type": "display_data",
          "data": {
            "image/png": "[encoded data removed]",
            "text/plain": [
              "<Figure size 576x360 with 1 Axes>"
            ]
          },
          "metadata": {
            "needs_background": "light"
          }
        }
      ]
    },
    {
      "cell_type": "code",
      "metadata": {
        "colab": {
          "base_uri": "https://localhost:8080/"
        },
        "id": "4nTzxJ208hlV",
        "outputId": "faf25a93-a073-49e8-90c2-d1d6fe445fe7"
      },
      "source": [
        "# Prediccion final \n",
        "\n",
        "final_predictions = model_CNN.predict(x_test)\n",
        "print(final_predictions)\n",
        "\n",
        "# Modifica las prediciones a  0 y 1\n",
        "# Cutoff point = 0.5\n",
        "\n",
        "Preds_CNN_VAL = final_predictions.copy()\n",
        "print(len(Preds_CNN_VAL))\n",
        "\n",
        "Preds_CNN_VAL[ np.where( Preds_CNN_VAL >= 0.5 ) ] = 1\n",
        "Preds_CNN_VAL[ np.where( Preds_CNN_VAL < 0.5 ) ] = 0\n",
        "print(Preds_CNN_VAL)"
      ],
      "execution_count": null,
      "outputs": [
        {
          "output_type": "stream",
          "name": "stdout",
          "text": [
            "[[9.9941695e-01]\n",
            " [3.2331431e-01]\n",
            " [2.3349461e-03]\n",
            " ...\n",
            " [5.1977928e-04]\n",
            " [2.7276197e-01]\n",
            " [6.5869111e-01]]\n",
            "10000\n",
            "[[1.]\n",
            " [0.]\n",
            " [0.]\n",
            " ...\n",
            " [0.]\n",
            " [0.]\n",
            " [1.]]\n"
          ]
        }
      ]
    },
    {
      "cell_type": "code",
      "metadata": {
        "colab": {
          "base_uri": "https://localhost:8080/"
        },
        "id": "x29N0LL7AYW0",
        "outputId": "afc06053-2852-4209-e149-fcd2cc65fbff"
      },
      "source": [
        "#Metricas\n",
        "print(\"Accuracy:\", accuracy_score(y_test,Preds_CNN_VAL))\n",
        "print(\"F1 Score:\", f1_score(y_test,Preds_CNN_VAL))\n",
        "print(\"Precicion:\", precision_score(y_test,Preds_CNN_VAL))\n",
        "print(\"Recall:\", recall_score(y_test,Preds_CNN_VAL))\n",
        "print(\"Hamming Loss:\", hamming_loss(y_test,Preds_CNN_VAL))\n",
        "print(\"Cohen Kappa:\", cohen_kappa_score(y_test,Preds_CNN_VAL))\n",
        "print(\"Matthews Coeficient:\", matthews_corrcoef(y_test,Preds_CNN_VAL))"
      ],
      "execution_count": null,
      "outputs": [
        {
          "output_type": "stream",
          "name": "stdout",
          "text": [
            "Accuracy: 0.8049\n",
            "F1 Score: 0.7955569527402285\n",
            "Precicion: 0.8478892115255752\n",
            "Recall: 0.7493091196210028\n",
            "Hamming Loss: 0.1951\n",
            "Cohen Kappa: 0.6103380140971757\n",
            "Matthews Coeficient: 0.6146054687914942\n"
          ]
        }
      ]
    },
    {
      "cell_type": "code",
      "metadata": {
        "colab": {
          "base_uri": "https://localhost:8080/",
          "height": 554
        },
        "id": "pxiKF5d78qSC",
        "outputId": "76be295d-b8a7-4366-ceb0-e005a67fa840"
      },
      "source": [
        "\n",
        "# Matriz de confusión \n",
        "\n",
        "conf_mx = confusion_matrix(y_test, Preds_CNN_VAL)\n",
        "\n",
        "TN = conf_mx[0,0]\n",
        "FP = conf_mx[0,1]\n",
        "FN = conf_mx[1,0]\n",
        "TP = conf_mx[1,1]\n",
        "\n",
        "print ('TN: ', TN)\n",
        "print ('FP: ', FP)\n",
        "print ('FN: ', FN)\n",
        "print ('TP: ', TP)\n",
        "\n",
        "recall = TP/(TP+FN)\n",
        "precision = TP/(TP+FP)\n",
        "\n",
        "print (recall, precision)\n",
        "\n",
        "# funcion para graficar \n",
        "\n",
        "def plot_confusion_matrix(cm,target_names,title='Confusion matrix',cmap=None,\n",
        "                          normalize=False):\n",
        "    import itertools\n",
        "    accuracy = np.trace(cm) / float(np.sum(cm))\n",
        "    misclass = 1 - accuracy\n",
        "\n",
        "    if cmap is None:\n",
        "        cmap = plt.get_cmap('Blues')\n",
        "\n",
        "    plt.figure(figsize=(8, 6))\n",
        "    plt.imshow(cm, interpolation='nearest', cmap=cmap)\n",
        "    plt.title(title)\n",
        "    plt.colorbar()\n",
        "\n",
        "    if target_names is not None:\n",
        "        tick_marks = np.arange(len(target_names))\n",
        "        plt.xticks(tick_marks, target_names, rotation=45)\n",
        "        plt.yticks(tick_marks, target_names)\n",
        "\n",
        "    if normalize:\n",
        "        cm = cm.astype('float') / cm.sum(axis=1)[:, np.newaxis]\n",
        "    \n",
        "    thresh = cm.max() / 1.5 if normalize else cm.max() / 2\n",
        "    for i, j in itertools.product(range(cm.shape[0]), range(cm.shape[1])):\n",
        "        if normalize:\n",
        "            plt.text(j, i, \"{:0.4f}\".format(cm[i, j]),\n",
        "                     horizontalalignment=\"center\",\n",
        "                     color=\"white\" if cm[i, j] > thresh else \"black\")\n",
        "        else:\n",
        "            plt.text(j, i, \"{:,}\".format(cm[i, j]),\n",
        "                     horizontalalignment=\"center\",\n",
        "                     color=\"white\" if cm[i, j] > thresh else \"black\")\n",
        "\n",
        "\n",
        "    plt.tight_layout()\n",
        "    plt.ylabel('True label')\n",
        "    plt.xlabel('Predicted label\\naccuracy={:0.4f}; misclass={:0.4f}'.format(accuracy, misclass))\n",
        "    plt.show()\n",
        "    \n",
        "plot_confusion_matrix(conf_mx, \n",
        "                      normalize    = False,\n",
        "                      target_names = ['resistant', 'sensistive'],\n",
        "                      title        = \"Confusion Matrix \")"
      ],
      "execution_count": null,
      "outputs": [
        {
          "output_type": "stream",
          "name": "stdout",
          "text": [
            "TN:  4253\n",
            "FP:  681\n",
            "FN:  1270\n",
            "TP:  3796\n",
            "0.7493091196210028 0.8478892115255752\n"
          ]
        },
        {
          "output_type": "display_data",
          "data": {
            "image/png": "[encoded data removed]",
            "text/plain": [
              "<Figure size 576x432 with 2 Axes>"
            ]
          },
          "metadata": {
            "needs_background": "light"
          }
        }
      ]
    },
    {
      "cell_type": "code",
      "metadata": {
        "colab": {
          "base_uri": "https://localhost:8080/"
        },
        "id": "Uf9hTWPuXOMN",
        "outputId": "30b55aaf-3447-46db-80e2-228254d8d644"
      },
      "source": [
        "model_LSTM = Sequential()\n",
        "model_LSTM.add(Embedding(4, 1, input_length=maxlen))\n",
        "model_LSTM.add(layers.Conv1D(128, 27, activation='relu'))\n",
        "model_LSTM.add(layers.MaxPooling1D(9))\n",
        "model_LSTM.add(layers.Dropout(0.5))\n",
        "model_LSTM.add(layers.Conv1D(128, 9, activation='relu'))\n",
        "model_LSTM.add(layers.Dropout(0.5))\n",
        "model_LSTM.add(layers.Bidirectional(layers.LSTM(32, dropout=0.2, recurrent_dropout=0.2)))\n",
        "model_LSTM.add(Dense(1, activation='sigmoid'))\n",
        "model_LSTM.compile(optimizer='adam', loss='binary_crossentropy', metrics=['acc'])\n",
        "model_LSTM.summary()"
      ],
      "execution_count": null,
      "outputs": [
        {
          "output_type": "stream",
          "name": "stdout",
          "text": [
            "WARNING:tensorflow:Layer lstm will not use cuDNN kernels since it doesn't meet the criteria. It will use a generic GPU kernel as fallback when running on GPU.\n",
            "WARNING:tensorflow:Layer lstm will not use cuDNN kernels since it doesn't meet the criteria. It will use a generic GPU kernel as fallback when running on GPU.\n",
            "WARNING:tensorflow:Layer lstm will not use cuDNN kernels since it doesn't meet the criteria. It will use a generic GPU kernel as fallback when running on GPU.\n",
            "Model: \"sequential\"\n",
            "_________________________________________________________________\n",
            " Layer (type)                Output Shape              Param #   \n",
            "=================================================================\n",
            " embedding (Embedding)       (None, 160, 1)            4         \n",
            "                                                                 \n",
            " conv1d (Conv1D)             (None, 134, 128)          3584      \n",
            "                                                                 \n",
            " max_pooling1d (MaxPooling1D  (None, 14, 128)          0         \n",
            " )                                                               \n",
            "                                                                 \n",
            " dropout (Dropout)           (None, 14, 128)           0         \n",
            "                                                                 \n",
            " conv1d_1 (Conv1D)           (None, 6, 128)            147584    \n",
            "                                                                 \n",
            " dropout_1 (Dropout)         (None, 6, 128)            0         \n",
            "                                                                 \n",
            " bidirectional (Bidirectiona  (None, 64)               41216     \n",
            " l)                                                              \n",
            "                                                                 \n",
            " dense (Dense)               (None, 1)                 65        \n",
            "                                                                 \n",
            "=================================================================\n",
            "Total params: 192,453\n",
            "Trainable params: 192,453\n",
            "Non-trainable params: 0\n",
            "_________________________________________________________________\n"
          ]
        }
      ]
    },
    {
      "cell_type": "code",
      "metadata": {
        "colab": {
          "base_uri": "https://localhost:8080/"
        },
        "id": "QjY6JGD-YC0u",
        "outputId": "1ccde950-4f3b-4664-d019-7eda5ce37295"
      },
      "source": [
        "\n",
        "# Entrenar el modelo \n",
        "\n",
        "history_LSTM = model_LSTM.fit(x_train, y_train, batch_size=32, epochs = 10,callbacks=[logging_callback],validation_split=0.1)\n"
      ],
      "execution_count": null,
      "outputs": [
        {
          "output_type": "stream",
          "name": "stderr",
          "text": [
            "\u001b[34m\u001b[1mwandb\u001b[0m: \u001b[33mWARNING\u001b[0m WandbCallback is unable to read validation_data from trainer and therefore cannot log validation data. Ensure Keras is properly patched by calling `from wandb.keras import WandbCallback` at the top of your script.\n"
          ]
        },
        {
          "output_type": "stream",
          "name": "stdout",
          "text": [
            "Epoch 1/10\n",
            "2532/2532 [==============================] - 123s 47ms/step - loss: 0.6003 - acc: 0.6460 - val_loss: 0.5091 - val_acc: 0.7191\n",
            "Epoch 2/10\n",
            "2532/2532 [==============================] - 118s 47ms/step - loss: 0.5129 - acc: 0.7034 - val_loss: 0.4631 - val_acc: 0.7748\n",
            "Epoch 3/10\n",
            "2532/2532 [==============================] - 116s 46ms/step - loss: 0.4736 - acc: 0.7345 - val_loss: 0.4219 - val_acc: 0.7844\n",
            "Epoch 4/10\n",
            "2532/2532 [==============================] - 117s 46ms/step - loss: 0.4387 - acc: 0.7563 - val_loss: 0.4046 - val_acc: 0.7810\n",
            "Epoch 5/10\n",
            "2532/2532 [==============================] - 116s 46ms/step - loss: 0.4216 - acc: 0.7666 - val_loss: 0.3885 - val_acc: 0.7876\n",
            "Epoch 6/10\n",
            "2532/2532 [==============================] - 116s 46ms/step - loss: 0.4078 - acc: 0.7735 - val_loss: 0.3762 - val_acc: 0.7987\n",
            "Epoch 7/10\n",
            "2532/2532 [==============================] - 116s 46ms/step - loss: 0.4024 - acc: 0.7754 - val_loss: 0.3733 - val_acc: 0.7957\n",
            "Epoch 8/10\n",
            "2532/2532 [==============================] - 115s 45ms/step - loss: 0.3963 - acc: 0.7795 - val_loss: 0.3656 - val_acc: 0.7974\n",
            "Epoch 9/10\n",
            "2532/2532 [==============================] - 113s 45ms/step - loss: 0.3931 - acc: 0.7808 - val_loss: 0.3696 - val_acc: 0.7962\n",
            "Epoch 10/10\n",
            "2532/2532 [==============================] - 119s 47ms/step - loss: 0.3899 - acc: 0.7835 - val_loss: 0.3628 - val_acc: 0.7983\n"
          ]
        }
      ]
    },
    {
      "cell_type": "code",
      "metadata": {
        "colab": {
          "base_uri": "https://localhost:8080/",
          "height": 337
        },
        "id": "Fe1BlCmXAyYc",
        "outputId": "b7539c3f-5c07-4f2e-fa6e-a82733e115f6"
      },
      "source": [
        "pd.DataFrame(history_LSTM.history).plot(figsize=(8, 5))\n"
      ],
      "execution_count": null,
      "outputs": [
        {
          "output_type": "execute_result",
          "data": {
            "text/plain": [
              "<matplotlib.axes._subplots.AxesSubplot at 0x7f5adcc81e10>"
            ]
          },
          "metadata": {},
          "execution_count": 41
        },
        {
          "output_type": "display_data",
          "data": {
            "image/png": "[encoded data removed]",
            "text/plain": [
              "<Figure size 576x360 with 1 Axes>"
            ]
          },
          "metadata": {
            "needs_background": "light"
          }
        }
      ]
    },
    {
      "cell_type": "code",
      "metadata": {
        "colab": {
          "base_uri": "https://localhost:8080/"
        },
        "id": "T8J9KbsLlOoR",
        "outputId": "e65d8eed-b6f6-46b0-916c-3d648388813c"
      },
      "source": [
        "# Prediccion final \n",
        "\n",
        "final_predictions = model_LSTM.predict(x_test)\n",
        "print(final_predictions)\n",
        "\n",
        "# Modifica las prediciones a  0 y 1\n",
        "# Cutoff point = 0.5\n",
        "\n",
        "Preds_LSTM = final_predictions.copy()\n",
        "print(len(Preds_LSTM))\n",
        "\n",
        "Preds_LSTM[ np.where( Preds_LSTM >= 0.5 ) ] = 1\n",
        "Preds_LSTM[ np.where( Preds_LSTM < 0.5 ) ] = 0\n",
        "print(Preds_LSTM)"
      ],
      "execution_count": null,
      "outputs": [
        {
          "output_type": "stream",
          "name": "stdout",
          "text": [
            "[[0.9982267 ]\n",
            " [0.2486218 ]\n",
            " [0.00291952]\n",
            " ...\n",
            " [0.13832064]\n",
            " [0.2737539 ]\n",
            " [0.7913941 ]]\n",
            "10000\n",
            "[[1.]\n",
            " [0.]\n",
            " [0.]\n",
            " ...\n",
            " [0.]\n",
            " [0.]\n",
            " [1.]]\n"
          ]
        }
      ]
    },
    {
      "cell_type": "code",
      "metadata": {
        "colab": {
          "base_uri": "https://localhost:8080/"
        },
        "id": "5Em1rClLExPK",
        "outputId": "6fe85723-5d3d-49fd-c09c-1e303b6546e3"
      },
      "source": [
        "#Metricas\n",
        "print(\"Accuracy:\", accuracy_score(y_test,Preds_LSTM))\n",
        "print(\"F1 Score:\", f1_score(y_test,Preds_LSTM))\n",
        "print(\"Precicion:\", precision_score(y_test,Preds_LSTM))\n",
        "print(\"Recall:\", recall_score(y_test,Preds_LSTM))\n",
        "print(\"Hamming Loss:\", hamming_loss(y_test,Preds_LSTM))\n",
        "print(\"Cohen Kappa:\", cohen_kappa_score(y_test,Preds_LSTM))\n",
        "print(\"Matthews Coeficient:\", matthews_corrcoef(y_test,Preds_LSTM))"
      ],
      "execution_count": null,
      "outputs": [
        {
          "output_type": "stream",
          "name": "stdout",
          "text": [
            "Accuracy: 0.7982\n",
            "F1 Score: 0.7844017094017094\n",
            "Precicion: 0.8549138332557057\n",
            "Recall: 0.7246348203711015\n",
            "Hamming Loss: 0.2018\n",
            "Cohen Kappa: 0.5971508463665083\n",
            "Matthews Coeficient: 0.6043711068436486\n"
          ]
        }
      ]
    },
    {
      "cell_type": "code",
      "metadata": {
        "colab": {
          "base_uri": "https://localhost:8080/",
          "height": 235
        },
        "id": "nBvhkRfglg9p",
        "outputId": "76aa4c8c-48b0-4b5d-8c6f-615132ce5888"
      },
      "source": [
        "# Matriz de confusión \n",
        "\n",
        "conf_mx = confusion_matrix(y_test, Preds_LSTM)\n",
        "\n",
        "TN = conf_mx[0,0]\n",
        "FP = conf_mx[0,1]\n",
        "FN = conf_mx[1,0]\n",
        "TP = conf_mx[1,1]\n",
        "\n",
        "print ('TN: ', TN)\n",
        "print ('FP: ', FP)\n",
        "print ('FN: ', FN)\n",
        "print ('TP: ', TP)\n",
        "\n",
        "recall = TP/(TP+FN)\n",
        "precision = TP/(TP+FP)\n",
        "#Sensibilidad = VP / (VP + FN)​\n",
        "Especificidad = TN / (TN + FP).\n",
        "\n",
        "print (recall, precision)\n",
        "\n",
        "# funcion para graficar \n",
        "\n",
        "def plot_confusion_matrix(cm,target_names,title='Confusion matrix',cmap=None,\n",
        "                          normalize=False):\n",
        "    import itertools\n",
        "    accuracy = np.trace(cm) / float(np.sum(cm))\n",
        "    misclass = 1 - accuracy\n",
        "\n",
        "    if cmap is None:\n",
        "        cmap = plt.get_cmap('Blues')\n",
        "\n",
        "    plt.figure(figsize=(8, 6))\n",
        "    plt.imshow(cm, interpolation='nearest', cmap=cmap)\n",
        "    plt.title(title)\n",
        "    plt.colorbar()\n",
        "\n",
        "    if target_names is not None:\n",
        "        tick_marks = np.arange(len(target_names))\n",
        "        plt.xticks(tick_marks, target_names, rotation=45)\n",
        "        plt.yticks(tick_marks, target_names)\n",
        "\n",
        "    if normalize:\n",
        "        cm = cm.astype('float') / cm.sum(axis=1)[:, np.newaxis]\n",
        "    \n",
        "    thresh = cm.max() / 1.5 if normalize else cm.max() / 2\n",
        "    for i, j in itertools.product(range(cm.shape[0]), range(cm.shape[1])):\n",
        "        if normalize:\n",
        "            plt.text(j, i, \"{:0.4f}\".format(cm[i, j]),\n",
        "                     horizontalalignment=\"center\",\n",
        "                     color=\"white\" if cm[i, j] > thresh else \"black\")\n",
        "        else:\n",
        "            plt.text(j, i, \"{:,}\".format(cm[i, j]),\n",
        "                     horizontalalignment=\"center\",\n",
        "                     color=\"white\" if cm[i, j] > thresh else \"black\")\n",
        "\n",
        "\n",
        "    plt.tight_layout()\n",
        "    plt.ylabel('True label')\n",
        "    plt.xlabel('Predicted label\\naccuracy={:0.4f}; misclass={:0.4f}'.format(accuracy, misclass))\n",
        "    plt.show()\n",
        "    \n",
        "plot_confusion_matrix(conf_mx, \n",
        "                      normalize    = False,\n",
        "                      target_names = ['resistant', 'sensistive'],\n",
        "                      title        = \"Confusion Matrix \")"
      ],
      "execution_count": null,
      "outputs": [
        {
          "output_type": "error",
          "ename": "NameError",
          "evalue": "ignored",
          "traceback": [
            "\u001b[0;31m---------------------------------------------------------------------------\u001b[0m",
            "\u001b[0;31mNameError\u001b[0m                                 Traceback (most recent call last)",
            "\u001b[0;32m<ipython-input-1-86fbf0d4567a>\u001b[0m in \u001b[0;36m<module>\u001b[0;34m()\u001b[0m\n\u001b[1;32m      1\u001b[0m \u001b[0;31m# Matriz de confusión\u001b[0m\u001b[0;34m\u001b[0m\u001b[0;34m\u001b[0m\u001b[0;34m\u001b[0m\u001b[0m\n\u001b[1;32m      2\u001b[0m \u001b[0;34m\u001b[0m\u001b[0m\n\u001b[0;32m----> 3\u001b[0;31m \u001b[0mconf_mx\u001b[0m \u001b[0;34m=\u001b[0m \u001b[0mconfusion_matrix\u001b[0m\u001b[0;34m(\u001b[0m\u001b[0my_test\u001b[0m\u001b[0;34m,\u001b[0m \u001b[0mPreds_LSTM\u001b[0m\u001b[0;34m)\u001b[0m\u001b[0;34m\u001b[0m\u001b[0;34m\u001b[0m\u001b[0m\n\u001b[0m\u001b[1;32m      4\u001b[0m \u001b[0;34m\u001b[0m\u001b[0m\n\u001b[1;32m      5\u001b[0m \u001b[0mTN\u001b[0m \u001b[0;34m=\u001b[0m \u001b[0mconf_mx\u001b[0m\u001b[0;34m[\u001b[0m\u001b[0;36m0\u001b[0m\u001b[0;34m,\u001b[0m\u001b[0;36m0\u001b[0m\u001b[0;34m]\u001b[0m\u001b[0;34m\u001b[0m\u001b[0;34m\u001b[0m\u001b[0m\n",
            "\u001b[0;31mNameError\u001b[0m: name 'confusion_matrix' is not defined"
          ]
        }
      ]
    },
    {
      "cell_type": "code",
      "metadata": {
        "id": "S06cVgj2mj2t"
      },
      "source": [
        "from sklearn.ensemble import RandomForestClassifier\n",
        "from sklearn.datasets import make_classification\n",
        "from sklearn.metrics import confusion_matrix, classification_report,hamming_loss,matthews_corrcoef,roc_curve\n",
        "\n",
        "RF = RandomForestClassifier(max_depth=2, random_state=0)\n",
        "history_RF = RF.fit(x_train, y_train)\n",
        "y_predict = RF.predict(x_test)"
      ],
      "execution_count": null,
      "outputs": []
    },
    {
      "cell_type": "code",
      "metadata": {
        "colab": {
          "base_uri": "https://localhost:8080/"
        },
        "id": "B1iCaE3znpvF",
        "outputId": "67efbfee-d788-456f-cd0a-62456f854d48"
      },
      "source": [
        "print(classification_report(y_test, y_predict))"
      ],
      "execution_count": null,
      "outputs": [
        {
          "output_type": "stream",
          "name": "stdout",
          "text": [
            "              precision    recall  f1-score   support\n",
            "\n",
            "       False       0.63      0.60      0.61      5064\n",
            "        True       0.61      0.65      0.63      4936\n",
            "\n",
            "    accuracy                           0.62     10000\n",
            "   macro avg       0.62      0.62      0.62     10000\n",
            "weighted avg       0.62      0.62      0.62     10000\n",
            "\n"
          ]
        }
      ]
    },
    {
      "cell_type": "code",
      "source": [
        "#Para dibujar todos las variables con su importancia\n",
        "from matplotlib import pyplot\n",
        "pyplot.bar(range(len(history_RF.feature_importances_)), history_RF.feature_importances_)\n",
        "pyplot.show()"
      ],
      "metadata": {
        "colab": {
          "base_uri": "https://localhost:8080/",
          "height": 265
        },
        "id": "pb1J77i1DQYe",
        "outputId": "e23a35d5-7491-43ea-da89-444edf5aa707"
      },
      "execution_count": null,
      "outputs": [
        {
          "output_type": "display_data",
          "data": {
            "image/png": "[encoded data removed]",
            "text/plain": [
              "<Figure size 432x288 with 1 Axes>"
            ]
          },
          "metadata": {
            "needs_background": "light"
          }
        }
      ]
    },
    {
      "cell_type": "code",
      "metadata": {
        "colab": {
          "base_uri": "https://localhost:8080/"
        },
        "id": "2EmShs49nZsx",
        "outputId": "583d6b31-f05a-484b-bc3c-a9588e032d52"
      },
      "source": [
        "# Prediccion final \n",
        "\n",
        "final_predictions = RF.predict(x_test)\n",
        "print(final_predictions)\n",
        "\n",
        "# Modifica las prediciones a  0 y 1\n",
        "# Cutoff point = 0.5\n",
        "\n",
        "Preds_RF = final_predictions.copy()\n",
        "print(len(Preds_RF))\n",
        "\n",
        "Preds_RF[ np.where( Preds_RF >= 0.5 ) ] = 1\n",
        "Preds_RF[ np.where( Preds_RF < 0.5 ) ] = 0\n",
        "print(Preds_RF)"
      ],
      "execution_count": null,
      "outputs": [
        {
          "output_type": "stream",
          "name": "stdout",
          "text": [
            "[ True False False ...  True  True  True]\n",
            "10000\n",
            "[ True False False ...  True  True  True]\n"
          ]
        }
      ]
    },
    {
      "cell_type": "code",
      "metadata": {
        "colab": {
          "base_uri": "https://localhost:8080/"
        },
        "id": "ryis1sOmFWi8",
        "outputId": "1f99bdc7-eb7e-4d5c-c964-19f602070d64"
      },
      "source": [
        "#Metricas\n",
        "print(\"Accuracy:\", accuracy_score(y_test,Preds_RF))\n",
        "print(\"F1 Score:\", f1_score(y_test,Preds_RF))\n",
        "print(\"Precicion:\", precision_score(y_test,Preds_RF))\n",
        "print(\"Recall:\", recall_score(y_test,Preds_RF))\n",
        "print(\"Hamming Loss:\", hamming_loss(y_test,Preds_RF))\n",
        "print(\"Cohen Kappa:\", cohen_kappa_score(y_test,Preds_RF))\n",
        "print(\"Matthews Coeficient:\", matthews_corrcoef(y_test,Preds_RF))"
      ],
      "execution_count": null,
      "outputs": [
        {
          "output_type": "stream",
          "name": "stdout",
          "text": [
            "Accuracy: 0.6128\n",
            "F1 Score: 0.625531914893617\n",
            "Precicion: 0.6131968145620023\n",
            "Recall: 0.6383734701934465\n",
            "Hamming Loss: 0.3872\n",
            "Cohen Kappa: 0.22503942451811942\n",
            "Matthews Coeficient: 0.22523468247863912\n"
          ]
        }
      ]
    },
    {
      "cell_type": "code",
      "metadata": {
        "colab": {
          "base_uri": "https://localhost:8080/",
          "height": 554
        },
        "id": "Af0HXiYDoYqE",
        "outputId": "c65c61e1-4bf9-4c7d-ffca-b479a50f07eb"
      },
      "source": [
        "# Matriz de confusión \n",
        "\n",
        "conf_mx = confusion_matrix(y_test, Preds_RF)\n",
        "\n",
        "TN = conf_mx[0,0]\n",
        "FP = conf_mx[0,1]\n",
        "FN = conf_mx[1,0]\n",
        "TP = conf_mx[1,1]\n",
        "\n",
        "print ('TN: ', TN)\n",
        "print ('FP: ', FP)\n",
        "print ('FN: ', FN)\n",
        "print ('TP: ', TP)\n",
        "\n",
        "recall = TP/(TP+FN)\n",
        "precision = TP/(TP+FP)\n",
        "\n",
        "print (recall, precision)\n",
        "\n",
        "# funcion para graficar \n",
        "\n",
        "def plot_confusion_matrix(cm,target_names,title='Confusion matrix',cmap=None,\n",
        "                          normalize=False):\n",
        "    import itertools\n",
        "    accuracy = np.trace(cm) / float(np.sum(cm))\n",
        "    misclass = 1 - accuracy\n",
        "\n",
        "    if cmap is None:\n",
        "        cmap = plt.get_cmap('Blues')\n",
        "\n",
        "    plt.figure(figsize=(8, 6))\n",
        "    plt.imshow(cm, interpolation='nearest', cmap=cmap)\n",
        "    plt.title(title)\n",
        "    plt.colorbar()\n",
        "\n",
        "    if target_names is not None:\n",
        "        tick_marks = np.arange(len(target_names))\n",
        "        plt.xticks(tick_marks, target_names, rotation=45)\n",
        "        plt.yticks(tick_marks, target_names)\n",
        "\n",
        "    if normalize:\n",
        "        cm = cm.astype('float') / cm.sum(axis=1)[:, np.newaxis]\n",
        "    \n",
        "    thresh = cm.max() / 1.5 if normalize else cm.max() / 2\n",
        "    for i, j in itertools.product(range(cm.shape[0]), range(cm.shape[1])):\n",
        "        if normalize:\n",
        "            plt.text(j, i, \"{:0.4f}\".format(cm[i, j]),\n",
        "                     horizontalalignment=\"center\",\n",
        "                     color=\"white\" if cm[i, j] > thresh else \"black\")\n",
        "        else:\n",
        "            plt.text(j, i, \"{:,}\".format(cm[i, j]),\n",
        "                     horizontalalignment=\"center\",\n",
        "                     color=\"white\" if cm[i, j] > thresh else \"black\")\n",
        "\n",
        "\n",
        "    plt.tight_layout()\n",
        "    plt.ylabel('True label')\n",
        "    plt.xlabel('Predicted label\\naccuracy={:0.4f}; misclass={:0.4f}'.format(accuracy, misclass))\n",
        "    plt.show()\n",
        "    \n",
        "plot_confusion_matrix(conf_mx, \n",
        "                      normalize    = False,\n",
        "                      target_names = ['resistant', 'sensistive'],\n",
        "                      title        = \"Confusion Matrix \")"
      ],
      "execution_count": null,
      "outputs": [
        {
          "output_type": "stream",
          "name": "stdout",
          "text": [
            "TN:  2894\n",
            "FP:  2040\n",
            "FN:  1832\n",
            "TP:  3234\n",
            "0.6383734701934465 0.6131968145620023\n"
          ]
        },
        {
          "output_type": "display_data",
          "data": {
            "image/png": "[encoded data removed]",
            "text/plain": [
              "<Figure size 576x432 with 2 Axes>"
            ]
          },
          "metadata": {
            "needs_background": "light"
          }
        }
      ]
    },
    {
      "cell_type": "code",
      "metadata": {
        "id": "e7TLCTQZoyL5"
      },
      "source": [
        "from sklearn import svm\n",
        "from sklearn.svm import SVC\n"
      ],
      "execution_count": null,
      "outputs": []
    },
    {
      "cell_type": "code",
      "metadata": {
        "id": "iZT5k4_4pOKi"
      },
      "source": [
        "SVM_model =SVC()\n",
        "SVM_model.fit(x_train,y_train)\n",
        "pred_SVM_model = SVM_model.predict(x_test)"
      ],
      "execution_count": null,
      "outputs": []
    },
    {
      "cell_type": "code",
      "metadata": {
        "colab": {
          "base_uri": "https://localhost:8080/"
        },
        "id": "r99I6lE0pu5J",
        "outputId": "fcfd87b7-349a-4db9-b8dc-b8b54bd0702a"
      },
      "source": [
        "print(classification_report(y_test,pred_SVM_model))"
      ],
      "execution_count": null,
      "outputs": [
        {
          "output_type": "stream",
          "name": "stdout",
          "text": [
            "              precision    recall  f1-score   support\n",
            "\n",
            "       False       0.76      0.83      0.79      4934\n",
            "        True       0.82      0.74      0.78      5066\n",
            "\n",
            "    accuracy                           0.79     10000\n",
            "   macro avg       0.79      0.79      0.79     10000\n",
            "weighted avg       0.79      0.79      0.79     10000\n",
            "\n"
          ]
        }
      ]
    },
    {
      "cell_type": "code",
      "metadata": {
        "colab": {
          "base_uri": "https://localhost:8080/"
        },
        "id": "o3J0R-iZp6vz",
        "outputId": "97f094dd-f7f3-4449-cbee-d576bd1a8958"
      },
      "source": [
        "# Prediccion final \n",
        "\n",
        "final_predictions = SVM_model.predict(x_test)\n",
        "print(final_predictions)\n",
        "\n",
        "# Modifica las prediciones a  0 y 1\n",
        "# Cutoff point = 0.5\n",
        "\n",
        "pred_SVM = final_predictions.copy()\n",
        "print(len(pred_SVM))\n",
        "\n",
        "pred_SVM[ np.where( pred_SVM >= 0.5 ) ] = 1\n",
        "pred_SVM[ np.where( pred_SVM < 0.5 ) ] = 0\n",
        "print(pred_SVM)"
      ],
      "execution_count": null,
      "outputs": [
        {
          "output_type": "stream",
          "name": "stdout",
          "text": [
            "[ True False False ... False False  True]\n",
            "10000\n",
            "[ True False False ... False False  True]\n"
          ]
        }
      ]
    },
    {
      "cell_type": "code",
      "metadata": {
        "colab": {
          "base_uri": "https://localhost:8080/"
        },
        "id": "Bw1dEO1OFwJj",
        "outputId": "d1fe2d2f-c9e6-434d-f1d4-3b1415b61393"
      },
      "source": [
        "#Metricas\n",
        "print(\"Accuracy:\", accuracy_score(y_test,pred_SVM))\n",
        "print(\"F1 Score:\", f1_score(y_test,pred_SVM))\n",
        "print(\"Precicion:\", precision_score(y_test,pred_SVM))\n",
        "print(\"Recall:\", recall_score(y_test,pred_SVM))\n",
        "print(\"Hamming Loss:\", hamming_loss(y_test,pred_SVM))\n",
        "print(\"Cohen Kappa:\", cohen_kappa_score(y_test,pred_SVM))\n",
        "print(\"Matthews Coeficient:\", matthews_corrcoef(y_test,pred_SVM))"
      ],
      "execution_count": null,
      "outputs": [
        {
          "output_type": "stream",
          "name": "stdout",
          "text": [
            "Accuracy: 0.7855\n",
            "F1 Score: 0.7779732946899907\n",
            "Precicion: 0.8178454842219804\n",
            "Recall: 0.7418081326490328\n",
            "Hamming Loss: 0.2145\n",
            "Cohen Kappa: 0.571458196895879\n",
            "Matthews Coeficient: 0.5740051679400251\n"
          ]
        }
      ]
    },
    {
      "cell_type": "code",
      "metadata": {
        "colab": {
          "base_uri": "https://localhost:8080/",
          "height": 554
        },
        "id": "LlVx13EsqOH5",
        "outputId": "2ee1b52b-9e63-40e4-e54f-dea32c2918a8"
      },
      "source": [
        "# Matriz de confusión \n",
        "\n",
        "conf_mx = confusion_matrix(y_test, pred_SVM)\n",
        "\n",
        "TN = conf_mx[0,0]\n",
        "FP = conf_mx[0,1]\n",
        "FN = conf_mx[1,0]\n",
        "TP = conf_mx[1,1]\n",
        "\n",
        "print ('TN: ', TN)\n",
        "print ('FP: ', FP)\n",
        "print ('FN: ', FN)\n",
        "print ('TP: ', TP)\n",
        "\n",
        "recall = TP/(TP+FN)\n",
        "precision = TP/(TP+FP)\n",
        "\n",
        "print (recall, precision)\n",
        "\n",
        "# funcion para graficar \n",
        "\n",
        "def plot_confusion_matrix(cm,target_names,title='Confusion matrix',cmap=None,\n",
        "                          normalize=False):\n",
        "    import itertools\n",
        "    accuracy = np.trace(cm) / float(np.sum(cm))\n",
        "    misclass = 1 - accuracy\n",
        "\n",
        "    if cmap is None:\n",
        "        cmap = plt.get_cmap('Blues')\n",
        "\n",
        "    plt.figure(figsize=(8, 6))\n",
        "    plt.imshow(cm, interpolation='nearest', cmap=cmap)\n",
        "    plt.title(title)\n",
        "    plt.colorbar()\n",
        "\n",
        "    if target_names is not None:\n",
        "        tick_marks = np.arange(len(target_names))\n",
        "        plt.xticks(tick_marks, target_names, rotation=45)\n",
        "        plt.yticks(tick_marks, target_names)\n",
        "\n",
        "    if normalize:\n",
        "        cm = cm.astype('float') / cm.sum(axis=1)[:, np.newaxis]\n",
        "    \n",
        "    thresh = cm.max() / 1.5 if normalize else cm.max() / 2\n",
        "    for i, j in itertools.product(range(cm.shape[0]), range(cm.shape[1])):\n",
        "        if normalize:\n",
        "            plt.text(j, i, \"{:0.4f}\".format(cm[i, j]),\n",
        "                     horizontalalignment=\"center\",\n",
        "                     color=\"white\" if cm[i, j] > thresh else \"black\")\n",
        "        else:\n",
        "            plt.text(j, i, \"{:,}\".format(cm[i, j]),\n",
        "                     horizontalalignment=\"center\",\n",
        "                     color=\"white\" if cm[i, j] > thresh else \"black\")\n",
        "\n",
        "\n",
        "    plt.tight_layout()\n",
        "    plt.ylabel('True label')\n",
        "    plt.xlabel('Predicted label\\naccuracy={:0.4f}; misclass={:0.4f}'.format(accuracy, misclass))\n",
        "    plt.show()\n",
        "    \n",
        "plot_confusion_matrix(conf_mx, \n",
        "                      normalize    = False,\n",
        "                      target_names = ['resistant', 'sensistive'],\n",
        "                      title        = \"Confusion Matrix \")"
      ],
      "execution_count": null,
      "outputs": [
        {
          "output_type": "stream",
          "name": "stdout",
          "text": [
            "TN:  4097\n",
            "FP:  837\n",
            "FN:  1308\n",
            "TP:  3758\n",
            "0.7418081326490328 0.8178454842219804\n"
          ]
        },
        {
          "output_type": "display_data",
          "data": {
            "image/png": "[encoded data removed]",
            "text/plain": [
              "<Figure size 576x432 with 2 Axes>"
            ]
          },
          "metadata": {
            "needs_background": "light"
          }
        }
      ]
    }
  ]
}